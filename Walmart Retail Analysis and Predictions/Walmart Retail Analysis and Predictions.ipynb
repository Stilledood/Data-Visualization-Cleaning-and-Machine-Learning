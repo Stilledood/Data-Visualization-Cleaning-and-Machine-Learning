{
 "cells": [
  {
   "cell_type": "markdown",
   "id": "60060d9b",
   "metadata": {},
   "source": [
    "## TABLE OF CONTENTS"
   ]
  },
  {
   "cell_type": "markdown",
   "id": "deb15faf",
   "metadata": {},
   "source": [
    "#### 1.Importing Libraries"
   ]
  },
  {
   "cell_type": "markdown",
   "id": "31acd489",
   "metadata": {},
   "source": [
    "#### 2. EDA"
   ]
  },
  {
   "cell_type": "markdown",
   "id": "e7e25e16",
   "metadata": {},
   "source": [
    "#### 3. Model Building"
   ]
  },
  {
   "cell_type": "markdown",
   "id": "cf0516b9",
   "metadata": {},
   "source": [
    "#### 4. Cross Validation"
   ]
  },
  {
   "cell_type": "code",
   "execution_count": null,
   "id": "4557f0b8",
   "metadata": {},
   "outputs": [],
   "source": []
  },
  {
   "cell_type": "code",
   "execution_count": null,
   "id": "b2328d48",
   "metadata": {},
   "outputs": [],
   "source": []
  },
  {
   "cell_type": "markdown",
   "id": "dfc792ec",
   "metadata": {},
   "source": [
    "### 1. Importing Libraries"
   ]
  },
  {
   "cell_type": "code",
   "execution_count": 1,
   "id": "1f3b4348",
   "metadata": {},
   "outputs": [],
   "source": [
    "import pandas as pd\n",
    "import numpy as np\n",
    "import matplotlib.pyplot as plt\n",
    "import seaborn as sns\n"
   ]
  },
  {
   "cell_type": "code",
   "execution_count": 2,
   "id": "77397aa0",
   "metadata": {},
   "outputs": [],
   "source": [
    "walmart_dataset=pd.read_csv('walmart.csv')"
   ]
  },
  {
   "cell_type": "code",
   "execution_count": null,
   "id": "e224b226",
   "metadata": {},
   "outputs": [],
   "source": []
  },
  {
   "cell_type": "code",
   "execution_count": null,
   "id": "06ccfe1d",
   "metadata": {},
   "outputs": [],
   "source": []
  },
  {
   "cell_type": "markdown",
   "id": "4af1ce8f",
   "metadata": {},
   "source": [
    "### 2.EDA(Exploratory Data Analysis)"
   ]
  },
  {
   "cell_type": "code",
   "execution_count": null,
   "id": "51a6ab53",
   "metadata": {},
   "outputs": [],
   "source": []
  },
  {
   "cell_type": "code",
   "execution_count": 3,
   "id": "02fbb9b9",
   "metadata": {},
   "outputs": [
    {
     "data": {
      "text/html": [
       "<div>\n",
       "<style scoped>\n",
       "    .dataframe tbody tr th:only-of-type {\n",
       "        vertical-align: middle;\n",
       "    }\n",
       "\n",
       "    .dataframe tbody tr th {\n",
       "        vertical-align: top;\n",
       "    }\n",
       "\n",
       "    .dataframe thead th {\n",
       "        text-align: right;\n",
       "    }\n",
       "</style>\n",
       "<table border=\"1\" class=\"dataframe\">\n",
       "  <thead>\n",
       "    <tr style=\"text-align: right;\">\n",
       "      <th></th>\n",
       "      <th>Store</th>\n",
       "      <th>Date</th>\n",
       "      <th>Weekly_Sales</th>\n",
       "      <th>Holiday_Flag</th>\n",
       "      <th>Temperature</th>\n",
       "      <th>Fuel_Price</th>\n",
       "      <th>CPI</th>\n",
       "      <th>Unemployment</th>\n",
       "    </tr>\n",
       "  </thead>\n",
       "  <tbody>\n",
       "    <tr>\n",
       "      <th>0</th>\n",
       "      <td>1</td>\n",
       "      <td>05-02-2010</td>\n",
       "      <td>1643690.90</td>\n",
       "      <td>0</td>\n",
       "      <td>42.31</td>\n",
       "      <td>2.572</td>\n",
       "      <td>211.096358</td>\n",
       "      <td>8.106</td>\n",
       "    </tr>\n",
       "    <tr>\n",
       "      <th>1</th>\n",
       "      <td>1</td>\n",
       "      <td>12-02-2010</td>\n",
       "      <td>1641957.44</td>\n",
       "      <td>1</td>\n",
       "      <td>38.51</td>\n",
       "      <td>2.548</td>\n",
       "      <td>211.242170</td>\n",
       "      <td>8.106</td>\n",
       "    </tr>\n",
       "    <tr>\n",
       "      <th>2</th>\n",
       "      <td>1</td>\n",
       "      <td>19-02-2010</td>\n",
       "      <td>1611968.17</td>\n",
       "      <td>0</td>\n",
       "      <td>39.93</td>\n",
       "      <td>2.514</td>\n",
       "      <td>211.289143</td>\n",
       "      <td>8.106</td>\n",
       "    </tr>\n",
       "    <tr>\n",
       "      <th>3</th>\n",
       "      <td>1</td>\n",
       "      <td>26-02-2010</td>\n",
       "      <td>1409727.59</td>\n",
       "      <td>0</td>\n",
       "      <td>46.63</td>\n",
       "      <td>2.561</td>\n",
       "      <td>211.319643</td>\n",
       "      <td>8.106</td>\n",
       "    </tr>\n",
       "    <tr>\n",
       "      <th>4</th>\n",
       "      <td>1</td>\n",
       "      <td>05-03-2010</td>\n",
       "      <td>1554806.68</td>\n",
       "      <td>0</td>\n",
       "      <td>46.50</td>\n",
       "      <td>2.625</td>\n",
       "      <td>211.350143</td>\n",
       "      <td>8.106</td>\n",
       "    </tr>\n",
       "  </tbody>\n",
       "</table>\n",
       "</div>"
      ],
      "text/plain": [
       "   Store        Date  Weekly_Sales  Holiday_Flag  Temperature  Fuel_Price  \\\n",
       "0      1  05-02-2010    1643690.90             0        42.31       2.572   \n",
       "1      1  12-02-2010    1641957.44             1        38.51       2.548   \n",
       "2      1  19-02-2010    1611968.17             0        39.93       2.514   \n",
       "3      1  26-02-2010    1409727.59             0        46.63       2.561   \n",
       "4      1  05-03-2010    1554806.68             0        46.50       2.625   \n",
       "\n",
       "          CPI  Unemployment  \n",
       "0  211.096358         8.106  \n",
       "1  211.242170         8.106  \n",
       "2  211.289143         8.106  \n",
       "3  211.319643         8.106  \n",
       "4  211.350143         8.106  "
      ]
     },
     "execution_count": 3,
     "metadata": {},
     "output_type": "execute_result"
    }
   ],
   "source": [
    "walmart_dataset.head()"
   ]
  },
  {
   "cell_type": "code",
   "execution_count": 4,
   "id": "6749f4c8",
   "metadata": {},
   "outputs": [
    {
     "name": "stdout",
     "output_type": "stream",
     "text": [
      "<class 'pandas.core.frame.DataFrame'>\n",
      "RangeIndex: 6435 entries, 0 to 6434\n",
      "Data columns (total 8 columns):\n",
      " #   Column        Non-Null Count  Dtype  \n",
      "---  ------        --------------  -----  \n",
      " 0   Store         6435 non-null   int64  \n",
      " 1   Date          6435 non-null   object \n",
      " 2   Weekly_Sales  6435 non-null   float64\n",
      " 3   Holiday_Flag  6435 non-null   int64  \n",
      " 4   Temperature   6435 non-null   float64\n",
      " 5   Fuel_Price    6435 non-null   float64\n",
      " 6   CPI           6435 non-null   float64\n",
      " 7   Unemployment  6435 non-null   float64\n",
      "dtypes: float64(5), int64(2), object(1)\n",
      "memory usage: 402.3+ KB\n"
     ]
    }
   ],
   "source": [
    "walmart_dataset.info()"
   ]
  },
  {
   "cell_type": "code",
   "execution_count": 6,
   "id": "eea8d7c6",
   "metadata": {},
   "outputs": [
    {
     "data": {
      "text/html": [
       "<div>\n",
       "<style scoped>\n",
       "    .dataframe tbody tr th:only-of-type {\n",
       "        vertical-align: middle;\n",
       "    }\n",
       "\n",
       "    .dataframe tbody tr th {\n",
       "        vertical-align: top;\n",
       "    }\n",
       "\n",
       "    .dataframe thead th {\n",
       "        text-align: right;\n",
       "    }\n",
       "</style>\n",
       "<table border=\"1\" class=\"dataframe\">\n",
       "  <thead>\n",
       "    <tr style=\"text-align: right;\">\n",
       "      <th></th>\n",
       "      <th>count</th>\n",
       "      <th>mean</th>\n",
       "      <th>std</th>\n",
       "      <th>min</th>\n",
       "      <th>25%</th>\n",
       "      <th>50%</th>\n",
       "      <th>75%</th>\n",
       "      <th>max</th>\n",
       "    </tr>\n",
       "  </thead>\n",
       "  <tbody>\n",
       "    <tr>\n",
       "      <th>Store</th>\n",
       "      <td>6435.0</td>\n",
       "      <td>2.300000e+01</td>\n",
       "      <td>12.988182</td>\n",
       "      <td>1.000</td>\n",
       "      <td>12.000</td>\n",
       "      <td>23.000000</td>\n",
       "      <td>3.400000e+01</td>\n",
       "      <td>4.500000e+01</td>\n",
       "    </tr>\n",
       "    <tr>\n",
       "      <th>Weekly_Sales</th>\n",
       "      <td>6435.0</td>\n",
       "      <td>1.046965e+06</td>\n",
       "      <td>564366.622054</td>\n",
       "      <td>209986.250</td>\n",
       "      <td>553350.105</td>\n",
       "      <td>960746.040000</td>\n",
       "      <td>1.420159e+06</td>\n",
       "      <td>3.818686e+06</td>\n",
       "    </tr>\n",
       "    <tr>\n",
       "      <th>Holiday_Flag</th>\n",
       "      <td>6435.0</td>\n",
       "      <td>6.993007e-02</td>\n",
       "      <td>0.255049</td>\n",
       "      <td>0.000</td>\n",
       "      <td>0.000</td>\n",
       "      <td>0.000000</td>\n",
       "      <td>0.000000e+00</td>\n",
       "      <td>1.000000e+00</td>\n",
       "    </tr>\n",
       "    <tr>\n",
       "      <th>Temperature</th>\n",
       "      <td>6435.0</td>\n",
       "      <td>6.066378e+01</td>\n",
       "      <td>18.444933</td>\n",
       "      <td>-2.060</td>\n",
       "      <td>47.460</td>\n",
       "      <td>62.670000</td>\n",
       "      <td>7.494000e+01</td>\n",
       "      <td>1.001400e+02</td>\n",
       "    </tr>\n",
       "    <tr>\n",
       "      <th>Fuel_Price</th>\n",
       "      <td>6435.0</td>\n",
       "      <td>3.358607e+00</td>\n",
       "      <td>0.459020</td>\n",
       "      <td>2.472</td>\n",
       "      <td>2.933</td>\n",
       "      <td>3.445000</td>\n",
       "      <td>3.735000e+00</td>\n",
       "      <td>4.468000e+00</td>\n",
       "    </tr>\n",
       "    <tr>\n",
       "      <th>CPI</th>\n",
       "      <td>6435.0</td>\n",
       "      <td>1.715784e+02</td>\n",
       "      <td>39.356712</td>\n",
       "      <td>126.064</td>\n",
       "      <td>131.735</td>\n",
       "      <td>182.616521</td>\n",
       "      <td>2.127433e+02</td>\n",
       "      <td>2.272328e+02</td>\n",
       "    </tr>\n",
       "    <tr>\n",
       "      <th>Unemployment</th>\n",
       "      <td>6435.0</td>\n",
       "      <td>7.999151e+00</td>\n",
       "      <td>1.875885</td>\n",
       "      <td>3.879</td>\n",
       "      <td>6.891</td>\n",
       "      <td>7.874000</td>\n",
       "      <td>8.622000e+00</td>\n",
       "      <td>1.431300e+01</td>\n",
       "    </tr>\n",
       "  </tbody>\n",
       "</table>\n",
       "</div>"
      ],
      "text/plain": [
       "               count          mean            std         min         25%  \\\n",
       "Store         6435.0  2.300000e+01      12.988182       1.000      12.000   \n",
       "Weekly_Sales  6435.0  1.046965e+06  564366.622054  209986.250  553350.105   \n",
       "Holiday_Flag  6435.0  6.993007e-02       0.255049       0.000       0.000   \n",
       "Temperature   6435.0  6.066378e+01      18.444933      -2.060      47.460   \n",
       "Fuel_Price    6435.0  3.358607e+00       0.459020       2.472       2.933   \n",
       "CPI           6435.0  1.715784e+02      39.356712     126.064     131.735   \n",
       "Unemployment  6435.0  7.999151e+00       1.875885       3.879       6.891   \n",
       "\n",
       "                        50%           75%           max  \n",
       "Store             23.000000  3.400000e+01  4.500000e+01  \n",
       "Weekly_Sales  960746.040000  1.420159e+06  3.818686e+06  \n",
       "Holiday_Flag       0.000000  0.000000e+00  1.000000e+00  \n",
       "Temperature       62.670000  7.494000e+01  1.001400e+02  \n",
       "Fuel_Price         3.445000  3.735000e+00  4.468000e+00  \n",
       "CPI              182.616521  2.127433e+02  2.272328e+02  \n",
       "Unemployment       7.874000  8.622000e+00  1.431300e+01  "
      ]
     },
     "execution_count": 6,
     "metadata": {},
     "output_type": "execute_result"
    }
   ],
   "source": [
    "walmart_dataset.describe().T"
   ]
  },
  {
   "cell_type": "code",
   "execution_count": 7,
   "id": "3abfdad3",
   "metadata": {},
   "outputs": [
    {
     "data": {
      "text/plain": [
       "Index(['Store', 'Date', 'Weekly_Sales', 'Holiday_Flag', 'Temperature',\n",
       "       'Fuel_Price', 'CPI', 'Unemployment'],\n",
       "      dtype='object')"
      ]
     },
     "execution_count": 7,
     "metadata": {},
     "output_type": "execute_result"
    }
   ],
   "source": [
    "walmart_dataset.columns"
   ]
  },
  {
   "cell_type": "code",
   "execution_count": 8,
   "id": "afc4857a",
   "metadata": {},
   "outputs": [
    {
     "data": {
      "text/plain": [
       "Store             int64\n",
       "Date             object\n",
       "Weekly_Sales    float64\n",
       "Holiday_Flag      int64\n",
       "Temperature     float64\n",
       "Fuel_Price      float64\n",
       "CPI             float64\n",
       "Unemployment    float64\n",
       "dtype: object"
      ]
     },
     "execution_count": 8,
     "metadata": {},
     "output_type": "execute_result"
    }
   ],
   "source": [
    "walmart_dataset.dtypes"
   ]
  },
  {
   "cell_type": "markdown",
   "id": "392f5fae",
   "metadata": {},
   "source": [
    "##### Changing the Date columns data type to datetime64"
   ]
  },
  {
   "cell_type": "code",
   "execution_count": 9,
   "id": "26fce40b",
   "metadata": {},
   "outputs": [],
   "source": [
    "from datetime import datetime"
   ]
  },
  {
   "cell_type": "code",
   "execution_count": 10,
   "id": "70e1cdca",
   "metadata": {},
   "outputs": [],
   "source": [
    "walmart_dataset['Date']=pd.to_datetime(walmart_dataset['Date'])"
   ]
  },
  {
   "cell_type": "code",
   "execution_count": 11,
   "id": "6fc235d6",
   "metadata": {},
   "outputs": [
    {
     "data": {
      "text/plain": [
       "Store                    int64\n",
       "Date            datetime64[ns]\n",
       "Weekly_Sales           float64\n",
       "Holiday_Flag             int64\n",
       "Temperature            float64\n",
       "Fuel_Price             float64\n",
       "CPI                    float64\n",
       "Unemployment           float64\n",
       "dtype: object"
      ]
     },
     "execution_count": 11,
     "metadata": {},
     "output_type": "execute_result"
    }
   ],
   "source": [
    "walmart_dataset.dtypes"
   ]
  },
  {
   "cell_type": "markdown",
   "id": "0b1adb6a",
   "metadata": {},
   "source": [
    "##### Descriptive Statistics"
   ]
  },
  {
   "cell_type": "code",
   "execution_count": 12,
   "id": "b4f0548c",
   "metadata": {},
   "outputs": [
    {
     "data": {
      "text/html": [
       "<div>\n",
       "<style scoped>\n",
       "    .dataframe tbody tr th:only-of-type {\n",
       "        vertical-align: middle;\n",
       "    }\n",
       "\n",
       "    .dataframe tbody tr th {\n",
       "        vertical-align: top;\n",
       "    }\n",
       "\n",
       "    .dataframe thead th {\n",
       "        text-align: right;\n",
       "    }\n",
       "</style>\n",
       "<table border=\"1\" class=\"dataframe\">\n",
       "  <thead>\n",
       "    <tr style=\"text-align: right;\">\n",
       "      <th></th>\n",
       "      <th>count</th>\n",
       "      <th>mean</th>\n",
       "      <th>std</th>\n",
       "      <th>min</th>\n",
       "      <th>25%</th>\n",
       "      <th>50%</th>\n",
       "      <th>75%</th>\n",
       "      <th>max</th>\n",
       "    </tr>\n",
       "  </thead>\n",
       "  <tbody>\n",
       "    <tr>\n",
       "      <th>Store</th>\n",
       "      <td>6435.0</td>\n",
       "      <td>2.300000e+01</td>\n",
       "      <td>12.988182</td>\n",
       "      <td>1.000</td>\n",
       "      <td>12.000</td>\n",
       "      <td>23.000000</td>\n",
       "      <td>3.400000e+01</td>\n",
       "      <td>4.500000e+01</td>\n",
       "    </tr>\n",
       "    <tr>\n",
       "      <th>Weekly_Sales</th>\n",
       "      <td>6435.0</td>\n",
       "      <td>1.046965e+06</td>\n",
       "      <td>564366.622054</td>\n",
       "      <td>209986.250</td>\n",
       "      <td>553350.105</td>\n",
       "      <td>960746.040000</td>\n",
       "      <td>1.420159e+06</td>\n",
       "      <td>3.818686e+06</td>\n",
       "    </tr>\n",
       "    <tr>\n",
       "      <th>Holiday_Flag</th>\n",
       "      <td>6435.0</td>\n",
       "      <td>6.993007e-02</td>\n",
       "      <td>0.255049</td>\n",
       "      <td>0.000</td>\n",
       "      <td>0.000</td>\n",
       "      <td>0.000000</td>\n",
       "      <td>0.000000e+00</td>\n",
       "      <td>1.000000e+00</td>\n",
       "    </tr>\n",
       "    <tr>\n",
       "      <th>Temperature</th>\n",
       "      <td>6435.0</td>\n",
       "      <td>6.066378e+01</td>\n",
       "      <td>18.444933</td>\n",
       "      <td>-2.060</td>\n",
       "      <td>47.460</td>\n",
       "      <td>62.670000</td>\n",
       "      <td>7.494000e+01</td>\n",
       "      <td>1.001400e+02</td>\n",
       "    </tr>\n",
       "    <tr>\n",
       "      <th>Fuel_Price</th>\n",
       "      <td>6435.0</td>\n",
       "      <td>3.358607e+00</td>\n",
       "      <td>0.459020</td>\n",
       "      <td>2.472</td>\n",
       "      <td>2.933</td>\n",
       "      <td>3.445000</td>\n",
       "      <td>3.735000e+00</td>\n",
       "      <td>4.468000e+00</td>\n",
       "    </tr>\n",
       "    <tr>\n",
       "      <th>CPI</th>\n",
       "      <td>6435.0</td>\n",
       "      <td>1.715784e+02</td>\n",
       "      <td>39.356712</td>\n",
       "      <td>126.064</td>\n",
       "      <td>131.735</td>\n",
       "      <td>182.616521</td>\n",
       "      <td>2.127433e+02</td>\n",
       "      <td>2.272328e+02</td>\n",
       "    </tr>\n",
       "    <tr>\n",
       "      <th>Unemployment</th>\n",
       "      <td>6435.0</td>\n",
       "      <td>7.999151e+00</td>\n",
       "      <td>1.875885</td>\n",
       "      <td>3.879</td>\n",
       "      <td>6.891</td>\n",
       "      <td>7.874000</td>\n",
       "      <td>8.622000e+00</td>\n",
       "      <td>1.431300e+01</td>\n",
       "    </tr>\n",
       "  </tbody>\n",
       "</table>\n",
       "</div>"
      ],
      "text/plain": [
       "               count          mean            std         min         25%  \\\n",
       "Store         6435.0  2.300000e+01      12.988182       1.000      12.000   \n",
       "Weekly_Sales  6435.0  1.046965e+06  564366.622054  209986.250  553350.105   \n",
       "Holiday_Flag  6435.0  6.993007e-02       0.255049       0.000       0.000   \n",
       "Temperature   6435.0  6.066378e+01      18.444933      -2.060      47.460   \n",
       "Fuel_Price    6435.0  3.358607e+00       0.459020       2.472       2.933   \n",
       "CPI           6435.0  1.715784e+02      39.356712     126.064     131.735   \n",
       "Unemployment  6435.0  7.999151e+00       1.875885       3.879       6.891   \n",
       "\n",
       "                        50%           75%           max  \n",
       "Store             23.000000  3.400000e+01  4.500000e+01  \n",
       "Weekly_Sales  960746.040000  1.420159e+06  3.818686e+06  \n",
       "Holiday_Flag       0.000000  0.000000e+00  1.000000e+00  \n",
       "Temperature       62.670000  7.494000e+01  1.001400e+02  \n",
       "Fuel_Price         3.445000  3.735000e+00  4.468000e+00  \n",
       "CPI              182.616521  2.127433e+02  2.272328e+02  \n",
       "Unemployment       7.874000  8.622000e+00  1.431300e+01  "
      ]
     },
     "execution_count": 12,
     "metadata": {},
     "output_type": "execute_result"
    }
   ],
   "source": [
    "walmart_dataset.describe().T"
   ]
  },
  {
   "cell_type": "code",
   "execution_count": null,
   "id": "0e271928",
   "metadata": {},
   "outputs": [],
   "source": []
  },
  {
   "cell_type": "markdown",
   "id": "c4362e65",
   "metadata": {},
   "source": [
    "##### Checking for missing values "
   ]
  },
  {
   "cell_type": "code",
   "execution_count": 13,
   "id": "f545c274",
   "metadata": {},
   "outputs": [
    {
     "data": {
      "text/plain": [
       "Store           0\n",
       "Date            0\n",
       "Weekly_Sales    0\n",
       "Holiday_Flag    0\n",
       "Temperature     0\n",
       "Fuel_Price      0\n",
       "CPI             0\n",
       "Unemployment    0\n",
       "dtype: int64"
      ]
     },
     "execution_count": 13,
     "metadata": {},
     "output_type": "execute_result"
    }
   ],
   "source": [
    "walmart_dataset.isnull().sum() # No missing values"
   ]
  },
  {
   "cell_type": "markdown",
   "id": "9670db07",
   "metadata": {},
   "source": [
    "##### Which store has maximum sales"
   ]
  },
  {
   "cell_type": "code",
   "execution_count": 21,
   "id": "9b0523e9",
   "metadata": {},
   "outputs": [
    {
     "data": {
      "text/plain": [
       "Store\n",
       "20    301397792.0\n",
       "4     299543953.0\n",
       "14    288999911.0\n",
       "13    286517704.0\n",
       "2     275382441.0\n",
       "10    271617714.0\n",
       "27    253855917.0\n",
       "6     223756131.0\n",
       "1     222402809.0\n",
       "39    207445542.0\n",
       "19    206634862.0\n",
       "31    199613905.0\n",
       "23    198750618.0\n",
       "24    194016021.0\n",
       "11    193962787.0\n",
       "28    189263681.0\n",
       "41    181341935.0\n",
       "32    166819246.0\n",
       "18    155114734.0\n",
       "22    147075649.0\n",
       "12    144287230.0\n",
       "26    143416394.0\n",
       "34    138249763.0\n",
       "40    137870310.0\n",
       "35    131520672.0\n",
       "8     129951181.0\n",
       "17    127782139.0\n",
       "45    112395341.0\n",
       "21    108117879.0\n",
       "25    101061179.0\n",
       "43     90565435.0\n",
       "15     89133684.0\n",
       "7      81598275.0\n",
       "42     79565752.0\n",
       "9      77789219.0\n",
       "29     77141554.0\n",
       "16     74252425.0\n",
       "37     74202740.0\n",
       "30     62716885.0\n",
       "3      57586735.0\n",
       "38     55159626.0\n",
       "36     53412215.0\n",
       "5      45475689.0\n",
       "44     43293088.0\n",
       "33     37160222.0\n",
       "Name: Weekly_Sales, dtype: float64"
      ]
     },
     "execution_count": 21,
     "metadata": {},
     "output_type": "execute_result"
    }
   ],
   "source": [
    "walmart_dataset.groupby(walmart_dataset['Store'])['Weekly_Sales'].sum().round().sort_values(ascending=False)"
   ]
  },
  {
   "cell_type": "markdown",
   "id": "b9946840",
   "metadata": {},
   "source": [
    "##### Which store has maximum standard deviation i.e., the sales vary a lot. Also, find out the coefficient of mean to standard deviation"
   ]
  },
  {
   "cell_type": "code",
   "execution_count": 24,
   "id": "c5c28f8f",
   "metadata": {},
   "outputs": [],
   "source": [
    "standard_deviation_store=walmart_dataset.groupby(walmart_dataset['Store'])['Weekly_Sales'].std().round(3).sort_values(ascending=False)"
   ]
  },
  {
   "cell_type": "code",
   "execution_count": 26,
   "id": "e2cd90fb",
   "metadata": {},
   "outputs": [
    {
     "data": {
      "text/html": [
       "<div>\n",
       "<style scoped>\n",
       "    .dataframe tbody tr th:only-of-type {\n",
       "        vertical-align: middle;\n",
       "    }\n",
       "\n",
       "    .dataframe tbody tr th {\n",
       "        vertical-align: top;\n",
       "    }\n",
       "\n",
       "    .dataframe thead th {\n",
       "        text-align: right;\n",
       "    }\n",
       "</style>\n",
       "<table border=\"1\" class=\"dataframe\">\n",
       "  <thead>\n",
       "    <tr style=\"text-align: right;\">\n",
       "      <th></th>\n",
       "      <th>Weekly_Sales</th>\n",
       "    </tr>\n",
       "    <tr>\n",
       "      <th>Store</th>\n",
       "      <th></th>\n",
       "    </tr>\n",
       "  </thead>\n",
       "  <tbody>\n",
       "    <tr>\n",
       "      <th>14</th>\n",
       "      <td>317569.949</td>\n",
       "    </tr>\n",
       "    <tr>\n",
       "      <th>10</th>\n",
       "      <td>302262.063</td>\n",
       "    </tr>\n",
       "    <tr>\n",
       "      <th>20</th>\n",
       "      <td>275900.563</td>\n",
       "    </tr>\n",
       "    <tr>\n",
       "      <th>4</th>\n",
       "      <td>266201.442</td>\n",
       "    </tr>\n",
       "    <tr>\n",
       "      <th>13</th>\n",
       "      <td>265506.996</td>\n",
       "    </tr>\n",
       "  </tbody>\n",
       "</table>\n",
       "</div>"
      ],
      "text/plain": [
       "       Weekly_Sales\n",
       "Store              \n",
       "14       317569.949\n",
       "10       302262.063\n",
       "20       275900.563\n",
       "4        266201.442\n",
       "13       265506.996"
      ]
     },
     "execution_count": 26,
     "metadata": {},
     "output_type": "execute_result"
    }
   ],
   "source": [
    "pd.DataFrame(standard_deviation_store).head()"
   ]
  },
  {
   "cell_type": "code",
   "execution_count": 29,
   "id": "31d99058",
   "metadata": {},
   "outputs": [],
   "source": [
    "store14=walmart_dataset.loc[walmart_dataset['Store']==14]['Weekly_Sales']"
   ]
  },
  {
   "cell_type": "code",
   "execution_count": 30,
   "id": "89699a83",
   "metadata": {},
   "outputs": [
    {
     "data": {
      "text/plain": [
       "1859    2623469.95\n",
       "1860    1704218.84\n",
       "1861    2204556.70\n",
       "1862    2095591.63\n",
       "1863    2237544.75\n",
       "           ...    \n",
       "1997    1522512.20\n",
       "1998    1687592.16\n",
       "1999    1639585.61\n",
       "2000    1590274.72\n",
       "2001    1704357.62\n",
       "Name: Weekly_Sales, Length: 143, dtype: float64"
      ]
     },
     "execution_count": 30,
     "metadata": {},
     "output_type": "execute_result"
    }
   ],
   "source": [
    "store14"
   ]
  },
  {
   "cell_type": "code",
   "execution_count": 37,
   "id": "d3325a63",
   "metadata": {},
   "outputs": [],
   "source": [
    "mean_to_stddev=(store14.std()/store14.mean()*100)"
   ]
  },
  {
   "cell_type": "code",
   "execution_count": 38,
   "id": "61f8c6c0",
   "metadata": {},
   "outputs": [
    {
     "data": {
      "text/plain": [
       "15.713673600948338"
      ]
     },
     "execution_count": 38,
     "metadata": {},
     "output_type": "execute_result"
    }
   ],
   "source": [
    "mean_to_stddev"
   ]
  },
  {
   "cell_type": "code",
   "execution_count": null,
   "id": "ebab29f9",
   "metadata": {},
   "outputs": [],
   "source": []
  },
  {
   "cell_type": "markdown",
   "id": "60d403b4",
   "metadata": {},
   "source": [
    "##### Which store/s has good quarterly growth rate in Q3’2012 "
   ]
  },
  {
   "cell_type": "code",
   "execution_count": 52,
   "id": "df1e5b99",
   "metadata": {},
   "outputs": [],
   "source": [
    "q2_sales=walmart_dataset.loc[(walmart_dataset['Date']>=pd.Timestamp(2012,4,1)) & (walmart_dataset['Date']<= pd.Timestamp(2012,6,30))].groupby(['Store'])['Weekly_Sales'].sum().round().sort_values(ascending=False)"
   ]
  },
  {
   "cell_type": "code",
   "execution_count": 53,
   "id": "f0164aa8",
   "metadata": {},
   "outputs": [
    {
     "data": {
      "text/plain": [
       "Store\n",
       "4     28384185.0\n",
       "20    27550181.0\n",
       "13    26803226.0\n",
       "2     25085124.0\n",
       "14    24427769.0\n",
       "Name: Weekly_Sales, dtype: float64"
      ]
     },
     "execution_count": 53,
     "metadata": {},
     "output_type": "execute_result"
    }
   ],
   "source": [
    "q2_sales.head()"
   ]
  },
  {
   "cell_type": "code",
   "execution_count": 57,
   "id": "a49daca9",
   "metadata": {},
   "outputs": [],
   "source": [
    "q3_sales=walmart_dataset.loc[(walmart_dataset['Date']>=pd.Timestamp(2012,7,1)) & (walmart_dataset['Date']<=pd.Timestamp(2012,9,20))].groupby(['Store'])['Weekly_Sales'].sum().round().sort_values(ascending=False)"
   ]
  },
  {
   "cell_type": "code",
   "execution_count": 59,
   "id": "0cb5cf29",
   "metadata": {},
   "outputs": [
    {
     "data": {
      "text/plain": [
       "Store\n",
       "4     21505061.0\n",
       "20    20629000.0\n",
       "13    20453951.0\n",
       "2     18820981.0\n",
       "10    17802636.0\n",
       "Name: Weekly_Sales, dtype: float64"
      ]
     },
     "execution_count": 59,
     "metadata": {},
     "output_type": "execute_result"
    }
   ],
   "source": [
    "q3_sales.head()"
   ]
  },
  {
   "cell_type": "code",
   "execution_count": 60,
   "id": "5e3aa48d",
   "metadata": {},
   "outputs": [],
   "source": [
    "q3_growth=pd.DataFrame({\n",
    "    'Q2_Sales':q2_sales,\n",
    "    'Q3_Sales':q3_sales,\n",
    "    'Difference':(q3_sales-q2_sales),\n",
    "    'Growth_Rate':((q3_sales-q2_sales)/q2_sales)*100\n",
    "})"
   ]
  },
  {
   "cell_type": "code",
   "execution_count": 62,
   "id": "85b42277",
   "metadata": {},
   "outputs": [
    {
     "data": {
      "text/html": [
       "<div>\n",
       "<style scoped>\n",
       "    .dataframe tbody tr th:only-of-type {\n",
       "        vertical-align: middle;\n",
       "    }\n",
       "\n",
       "    .dataframe tbody tr th {\n",
       "        vertical-align: top;\n",
       "    }\n",
       "\n",
       "    .dataframe thead th {\n",
       "        text-align: right;\n",
       "    }\n",
       "</style>\n",
       "<table border=\"1\" class=\"dataframe\">\n",
       "  <thead>\n",
       "    <tr style=\"text-align: right;\">\n",
       "      <th></th>\n",
       "      <th>Q2_Sales</th>\n",
       "      <th>Q3_Sales</th>\n",
       "      <th>Difference</th>\n",
       "      <th>Growth_Rate</th>\n",
       "    </tr>\n",
       "    <tr>\n",
       "      <th>Store</th>\n",
       "      <th></th>\n",
       "      <th></th>\n",
       "      <th></th>\n",
       "      <th></th>\n",
       "    </tr>\n",
       "  </thead>\n",
       "  <tbody>\n",
       "    <tr>\n",
       "      <th>1</th>\n",
       "      <td>21036966.0</td>\n",
       "      <td>15690025.0</td>\n",
       "      <td>-5346941.0</td>\n",
       "      <td>-25.416883</td>\n",
       "    </tr>\n",
       "    <tr>\n",
       "      <th>2</th>\n",
       "      <td>25085124.0</td>\n",
       "      <td>18820981.0</td>\n",
       "      <td>-6264143.0</td>\n",
       "      <td>-24.971545</td>\n",
       "    </tr>\n",
       "    <tr>\n",
       "      <th>3</th>\n",
       "      <td>5562668.0</td>\n",
       "      <td>4162291.0</td>\n",
       "      <td>-1400377.0</td>\n",
       "      <td>-25.174557</td>\n",
       "    </tr>\n",
       "    <tr>\n",
       "      <th>4</th>\n",
       "      <td>28384185.0</td>\n",
       "      <td>21505061.0</td>\n",
       "      <td>-6879124.0</td>\n",
       "      <td>-24.235764</td>\n",
       "    </tr>\n",
       "    <tr>\n",
       "      <th>5</th>\n",
       "      <td>4427262.0</td>\n",
       "      <td>3263173.0</td>\n",
       "      <td>-1164089.0</td>\n",
       "      <td>-26.293655</td>\n",
       "    </tr>\n",
       "  </tbody>\n",
       "</table>\n",
       "</div>"
      ],
      "text/plain": [
       "         Q2_Sales    Q3_Sales  Difference  Growth_Rate\n",
       "Store                                                 \n",
       "1      21036966.0  15690025.0  -5346941.0   -25.416883\n",
       "2      25085124.0  18820981.0  -6264143.0   -24.971545\n",
       "3       5562668.0   4162291.0  -1400377.0   -25.174557\n",
       "4      28384185.0  21505061.0  -6879124.0   -24.235764\n",
       "5       4427262.0   3263173.0  -1164089.0   -26.293655"
      ]
     },
     "execution_count": 62,
     "metadata": {},
     "output_type": "execute_result"
    }
   ],
   "source": [
    "q3_growth.head()"
   ]
  },
  {
   "cell_type": "code",
   "execution_count": 63,
   "id": "3b962dd6",
   "metadata": {},
   "outputs": [
    {
     "data": {
      "text/html": [
       "<div>\n",
       "<style scoped>\n",
       "    .dataframe tbody tr th:only-of-type {\n",
       "        vertical-align: middle;\n",
       "    }\n",
       "\n",
       "    .dataframe tbody tr th {\n",
       "        vertical-align: top;\n",
       "    }\n",
       "\n",
       "    .dataframe thead th {\n",
       "        text-align: right;\n",
       "    }\n",
       "</style>\n",
       "<table border=\"1\" class=\"dataframe\">\n",
       "  <thead>\n",
       "    <tr style=\"text-align: right;\">\n",
       "      <th></th>\n",
       "      <th>Q2_Sales</th>\n",
       "      <th>Q3_Sales</th>\n",
       "      <th>Difference</th>\n",
       "      <th>Growth_Rate</th>\n",
       "    </tr>\n",
       "    <tr>\n",
       "      <th>Store</th>\n",
       "      <th></th>\n",
       "      <th></th>\n",
       "      <th></th>\n",
       "      <th></th>\n",
       "    </tr>\n",
       "  </thead>\n",
       "  <tbody>\n",
       "    <tr>\n",
       "      <th>16</th>\n",
       "      <td>6626133.0</td>\n",
       "      <td>5461761.0</td>\n",
       "      <td>-1164372.0</td>\n",
       "      <td>-17.572421</td>\n",
       "    </tr>\n",
       "    <tr>\n",
       "      <th>7</th>\n",
       "      <td>7613594.0</td>\n",
       "      <td>6266006.0</td>\n",
       "      <td>-1347588.0</td>\n",
       "      <td>-17.699762</td>\n",
       "    </tr>\n",
       "    <tr>\n",
       "      <th>35</th>\n",
       "      <td>10753571.0</td>\n",
       "      <td>8665720.0</td>\n",
       "      <td>-2087851.0</td>\n",
       "      <td>-19.415420</td>\n",
       "    </tr>\n",
       "    <tr>\n",
       "      <th>26</th>\n",
       "      <td>13218290.0</td>\n",
       "      <td>10491765.0</td>\n",
       "      <td>-2726525.0</td>\n",
       "      <td>-20.626912</td>\n",
       "    </tr>\n",
       "    <tr>\n",
       "      <th>23</th>\n",
       "      <td>18283425.0</td>\n",
       "      <td>14445992.0</td>\n",
       "      <td>-3837433.0</td>\n",
       "      <td>-20.988589</td>\n",
       "    </tr>\n",
       "    <tr>\n",
       "      <th>41</th>\n",
       "      <td>17560036.0</td>\n",
       "      <td>13789051.0</td>\n",
       "      <td>-3770985.0</td>\n",
       "      <td>-21.474814</td>\n",
       "    </tr>\n",
       "    <tr>\n",
       "      <th>39</th>\n",
       "      <td>20191586.0</td>\n",
       "      <td>15848676.0</td>\n",
       "      <td>-4342910.0</td>\n",
       "      <td>-21.508513</td>\n",
       "    </tr>\n",
       "    <tr>\n",
       "      <th>44</th>\n",
       "      <td>4322555.0</td>\n",
       "      <td>3329160.0</td>\n",
       "      <td>-993395.0</td>\n",
       "      <td>-22.981662</td>\n",
       "    </tr>\n",
       "    <tr>\n",
       "      <th>21</th>\n",
       "      <td>9226280.0</td>\n",
       "      <td>7089259.0</td>\n",
       "      <td>-2137021.0</td>\n",
       "      <td>-23.162325</td>\n",
       "    </tr>\n",
       "    <tr>\n",
       "      <th>32</th>\n",
       "      <td>15415236.0</td>\n",
       "      <td>11825934.0</td>\n",
       "      <td>-3589302.0</td>\n",
       "      <td>-23.284120</td>\n",
       "    </tr>\n",
       "    <tr>\n",
       "      <th>24</th>\n",
       "      <td>17768192.0</td>\n",
       "      <td>13605563.0</td>\n",
       "      <td>-4162629.0</td>\n",
       "      <td>-23.427420</td>\n",
       "    </tr>\n",
       "    <tr>\n",
       "      <th>8</th>\n",
       "      <td>11934276.0</td>\n",
       "      <td>9131339.0</td>\n",
       "      <td>-2802937.0</td>\n",
       "      <td>-23.486444</td>\n",
       "    </tr>\n",
       "    <tr>\n",
       "      <th>40</th>\n",
       "      <td>12849747.0</td>\n",
       "      <td>9828298.0</td>\n",
       "      <td>-3021449.0</td>\n",
       "      <td>-23.513685</td>\n",
       "    </tr>\n",
       "    <tr>\n",
       "      <th>33</th>\n",
       "      <td>3512138.0</td>\n",
       "      <td>2681549.0</td>\n",
       "      <td>-830589.0</td>\n",
       "      <td>-23.649099</td>\n",
       "    </tr>\n",
       "    <tr>\n",
       "      <th>13</th>\n",
       "      <td>26803226.0</td>\n",
       "      <td>20453951.0</td>\n",
       "      <td>-6349275.0</td>\n",
       "      <td>-23.688473</td>\n",
       "    </tr>\n",
       "    <tr>\n",
       "      <th>19</th>\n",
       "      <td>18315279.0</td>\n",
       "      <td>13967470.0</td>\n",
       "      <td>-4347809.0</td>\n",
       "      <td>-23.738699</td>\n",
       "    </tr>\n",
       "    <tr>\n",
       "      <th>42</th>\n",
       "      <td>7608247.0</td>\n",
       "      <td>5797696.0</td>\n",
       "      <td>-1810551.0</td>\n",
       "      <td>-23.797216</td>\n",
       "    </tr>\n",
       "    <tr>\n",
       "      <th>18</th>\n",
       "      <td>13834706.0</td>\n",
       "      <td>10533279.0</td>\n",
       "      <td>-3301427.0</td>\n",
       "      <td>-23.863369</td>\n",
       "    </tr>\n",
       "    <tr>\n",
       "      <th>37</th>\n",
       "      <td>6859778.0</td>\n",
       "      <td>5201250.0</td>\n",
       "      <td>-1658528.0</td>\n",
       "      <td>-24.177575</td>\n",
       "    </tr>\n",
       "    <tr>\n",
       "      <th>4</th>\n",
       "      <td>28384185.0</td>\n",
       "      <td>21505061.0</td>\n",
       "      <td>-6879124.0</td>\n",
       "      <td>-24.235764</td>\n",
       "    </tr>\n",
       "    <tr>\n",
       "      <th>11</th>\n",
       "      <td>17879096.0</td>\n",
       "      <td>13540799.0</td>\n",
       "      <td>-4338297.0</td>\n",
       "      <td>-24.264633</td>\n",
       "    </tr>\n",
       "    <tr>\n",
       "      <th>27</th>\n",
       "      <td>22593641.0</td>\n",
       "      <td>17093065.0</td>\n",
       "      <td>-5500576.0</td>\n",
       "      <td>-24.345682</td>\n",
       "    </tr>\n",
       "    <tr>\n",
       "      <th>31</th>\n",
       "      <td>18249155.0</td>\n",
       "      <td>13802183.0</td>\n",
       "      <td>-4446972.0</td>\n",
       "      <td>-24.368098</td>\n",
       "    </tr>\n",
       "    <tr>\n",
       "      <th>12</th>\n",
       "      <td>13193365.0</td>\n",
       "      <td>9974357.0</td>\n",
       "      <td>-3219008.0</td>\n",
       "      <td>-24.398688</td>\n",
       "    </tr>\n",
       "    <tr>\n",
       "      <th>10</th>\n",
       "      <td>23598434.0</td>\n",
       "      <td>17802636.0</td>\n",
       "      <td>-5795798.0</td>\n",
       "      <td>-24.560096</td>\n",
       "    </tr>\n",
       "    <tr>\n",
       "      <th>38</th>\n",
       "      <td>5732363.0</td>\n",
       "      <td>4321229.0</td>\n",
       "      <td>-1411134.0</td>\n",
       "      <td>-24.616969</td>\n",
       "    </tr>\n",
       "    <tr>\n",
       "      <th>28</th>\n",
       "      <td>16986000.0</td>\n",
       "      <td>12790811.0</td>\n",
       "      <td>-4195189.0</td>\n",
       "      <td>-24.697922</td>\n",
       "    </tr>\n",
       "    <tr>\n",
       "      <th>25</th>\n",
       "      <td>9247467.0</td>\n",
       "      <td>6961394.0</td>\n",
       "      <td>-2286073.0</td>\n",
       "      <td>-24.721072</td>\n",
       "    </tr>\n",
       "    <tr>\n",
       "      <th>43</th>\n",
       "      <td>8239793.0</td>\n",
       "      <td>6196944.0</td>\n",
       "      <td>-2042849.0</td>\n",
       "      <td>-24.792480</td>\n",
       "    </tr>\n",
       "    <tr>\n",
       "      <th>2</th>\n",
       "      <td>25085124.0</td>\n",
       "      <td>18820981.0</td>\n",
       "      <td>-6264143.0</td>\n",
       "      <td>-24.971545</td>\n",
       "    </tr>\n",
       "    <tr>\n",
       "      <th>6</th>\n",
       "      <td>20728970.0</td>\n",
       "      <td>15546486.0</td>\n",
       "      <td>-5182484.0</td>\n",
       "      <td>-25.001165</td>\n",
       "    </tr>\n",
       "    <tr>\n",
       "      <th>20</th>\n",
       "      <td>27550181.0</td>\n",
       "      <td>20629000.0</td>\n",
       "      <td>-6921181.0</td>\n",
       "      <td>-25.122089</td>\n",
       "    </tr>\n",
       "    <tr>\n",
       "      <th>3</th>\n",
       "      <td>5562668.0</td>\n",
       "      <td>4162291.0</td>\n",
       "      <td>-1400377.0</td>\n",
       "      <td>-25.174557</td>\n",
       "    </tr>\n",
       "    <tr>\n",
       "      <th>34</th>\n",
       "      <td>12858028.0</td>\n",
       "      <td>9604582.0</td>\n",
       "      <td>-3253446.0</td>\n",
       "      <td>-25.302838</td>\n",
       "    </tr>\n",
       "    <tr>\n",
       "      <th>1</th>\n",
       "      <td>21036966.0</td>\n",
       "      <td>15690025.0</td>\n",
       "      <td>-5346941.0</td>\n",
       "      <td>-25.416883</td>\n",
       "    </tr>\n",
       "    <tr>\n",
       "      <th>30</th>\n",
       "      <td>5786335.0</td>\n",
       "      <td>4312673.0</td>\n",
       "      <td>-1473662.0</td>\n",
       "      <td>-25.467969</td>\n",
       "    </tr>\n",
       "    <tr>\n",
       "      <th>17</th>\n",
       "      <td>12918892.0</td>\n",
       "      <td>9622979.0</td>\n",
       "      <td>-3295913.0</td>\n",
       "      <td>-25.512350</td>\n",
       "    </tr>\n",
       "    <tr>\n",
       "      <th>22</th>\n",
       "      <td>13329065.0</td>\n",
       "      <td>9920452.0</td>\n",
       "      <td>-3408613.0</td>\n",
       "      <td>-25.572784</td>\n",
       "    </tr>\n",
       "    <tr>\n",
       "      <th>15</th>\n",
       "      <td>7867952.0</td>\n",
       "      <td>5822311.0</td>\n",
       "      <td>-2045641.0</td>\n",
       "      <td>-25.999663</td>\n",
       "    </tr>\n",
       "    <tr>\n",
       "      <th>9</th>\n",
       "      <td>7431320.0</td>\n",
       "      <td>5478122.0</td>\n",
       "      <td>-1953198.0</td>\n",
       "      <td>-26.283325</td>\n",
       "    </tr>\n",
       "    <tr>\n",
       "      <th>5</th>\n",
       "      <td>4427262.0</td>\n",
       "      <td>3263173.0</td>\n",
       "      <td>-1164089.0</td>\n",
       "      <td>-26.293655</td>\n",
       "    </tr>\n",
       "    <tr>\n",
       "      <th>36</th>\n",
       "      <td>4090379.0</td>\n",
       "      <td>3013641.0</td>\n",
       "      <td>-1076738.0</td>\n",
       "      <td>-26.323673</td>\n",
       "    </tr>\n",
       "    <tr>\n",
       "      <th>29</th>\n",
       "      <td>7034493.0</td>\n",
       "      <td>5149109.0</td>\n",
       "      <td>-1885384.0</td>\n",
       "      <td>-26.801988</td>\n",
       "    </tr>\n",
       "    <tr>\n",
       "      <th>45</th>\n",
       "      <td>10278900.0</td>\n",
       "      <td>7414982.0</td>\n",
       "      <td>-2863918.0</td>\n",
       "      <td>-27.862106</td>\n",
       "    </tr>\n",
       "    <tr>\n",
       "      <th>14</th>\n",
       "      <td>24427769.0</td>\n",
       "      <td>17052566.0</td>\n",
       "      <td>-7375203.0</td>\n",
       "      <td>-30.191881</td>\n",
       "    </tr>\n",
       "  </tbody>\n",
       "</table>\n",
       "</div>"
      ],
      "text/plain": [
       "         Q2_Sales    Q3_Sales  Difference  Growth_Rate\n",
       "Store                                                 \n",
       "16      6626133.0   5461761.0  -1164372.0   -17.572421\n",
       "7       7613594.0   6266006.0  -1347588.0   -17.699762\n",
       "35     10753571.0   8665720.0  -2087851.0   -19.415420\n",
       "26     13218290.0  10491765.0  -2726525.0   -20.626912\n",
       "23     18283425.0  14445992.0  -3837433.0   -20.988589\n",
       "41     17560036.0  13789051.0  -3770985.0   -21.474814\n",
       "39     20191586.0  15848676.0  -4342910.0   -21.508513\n",
       "44      4322555.0   3329160.0   -993395.0   -22.981662\n",
       "21      9226280.0   7089259.0  -2137021.0   -23.162325\n",
       "32     15415236.0  11825934.0  -3589302.0   -23.284120\n",
       "24     17768192.0  13605563.0  -4162629.0   -23.427420\n",
       "8      11934276.0   9131339.0  -2802937.0   -23.486444\n",
       "40     12849747.0   9828298.0  -3021449.0   -23.513685\n",
       "33      3512138.0   2681549.0   -830589.0   -23.649099\n",
       "13     26803226.0  20453951.0  -6349275.0   -23.688473\n",
       "19     18315279.0  13967470.0  -4347809.0   -23.738699\n",
       "42      7608247.0   5797696.0  -1810551.0   -23.797216\n",
       "18     13834706.0  10533279.0  -3301427.0   -23.863369\n",
       "37      6859778.0   5201250.0  -1658528.0   -24.177575\n",
       "4      28384185.0  21505061.0  -6879124.0   -24.235764\n",
       "11     17879096.0  13540799.0  -4338297.0   -24.264633\n",
       "27     22593641.0  17093065.0  -5500576.0   -24.345682\n",
       "31     18249155.0  13802183.0  -4446972.0   -24.368098\n",
       "12     13193365.0   9974357.0  -3219008.0   -24.398688\n",
       "10     23598434.0  17802636.0  -5795798.0   -24.560096\n",
       "38      5732363.0   4321229.0  -1411134.0   -24.616969\n",
       "28     16986000.0  12790811.0  -4195189.0   -24.697922\n",
       "25      9247467.0   6961394.0  -2286073.0   -24.721072\n",
       "43      8239793.0   6196944.0  -2042849.0   -24.792480\n",
       "2      25085124.0  18820981.0  -6264143.0   -24.971545\n",
       "6      20728970.0  15546486.0  -5182484.0   -25.001165\n",
       "20     27550181.0  20629000.0  -6921181.0   -25.122089\n",
       "3       5562668.0   4162291.0  -1400377.0   -25.174557\n",
       "34     12858028.0   9604582.0  -3253446.0   -25.302838\n",
       "1      21036966.0  15690025.0  -5346941.0   -25.416883\n",
       "30      5786335.0   4312673.0  -1473662.0   -25.467969\n",
       "17     12918892.0   9622979.0  -3295913.0   -25.512350\n",
       "22     13329065.0   9920452.0  -3408613.0   -25.572784\n",
       "15      7867952.0   5822311.0  -2045641.0   -25.999663\n",
       "9       7431320.0   5478122.0  -1953198.0   -26.283325\n",
       "5       4427262.0   3263173.0  -1164089.0   -26.293655\n",
       "36      4090379.0   3013641.0  -1076738.0   -26.323673\n",
       "29      7034493.0   5149109.0  -1885384.0   -26.801988\n",
       "45     10278900.0   7414982.0  -2863918.0   -27.862106\n",
       "14     24427769.0  17052566.0  -7375203.0   -30.191881"
      ]
     },
     "execution_count": 63,
     "metadata": {},
     "output_type": "execute_result"
    }
   ],
   "source": [
    "q3_growth.sort_values(by=['Growth_Rate'],ascending=False)"
   ]
  },
  {
   "cell_type": "code",
   "execution_count": 70,
   "id": "b0bcef4e",
   "metadata": {},
   "outputs": [],
   "source": [
    "import plotly.express as px\n"
   ]
  },
  {
   "cell_type": "code",
   "execution_count": 93,
   "id": "17d79fb9",
   "metadata": {},
   "outputs": [],
   "source": [
    "q3_growth['Store']=q3_growth.index"
   ]
  },
  {
   "cell_type": "code",
   "execution_count": 112,
   "id": "e01cb795",
   "metadata": {},
   "outputs": [
    {
     "data": {
      "text/plain": [
       "<matplotlib.legend.Legend at 0x201575639a0>"
      ]
     },
     "execution_count": 112,
     "metadata": {},
     "output_type": "execute_result"
    },
    {
     "data": {
      "image/png": "[encoded data removed]",
      "text/plain": [
       "<Figure size 1440x720 with 1 Axes>"
      ]
     },
     "metadata": {
      "needs_background": "light"
     },
     "output_type": "display_data"
    }
   ],
   "source": [
    "plt.figure(figsize=(20,10))\n",
    "plt.bar(q3_growth['Store'],q3_growth['Q2_Sales'],label='Q2 Sales')\n",
    "plt.bar(q3_growth['Store'],q3_growth['Q3_Sales'],label='Q3 Sales')\n",
    "plt.ylabel('Sales')\n",
    "plt.xlabel('Store')\n",
    "plt.xticks(q3_growth['Store'])\n",
    "\n",
    "plt.legend()\n"
   ]
  },
  {
   "cell_type": "code",
   "execution_count": null,
   "id": "971d232e",
   "metadata": {},
   "outputs": [],
   "source": []
  },
  {
   "cell_type": "markdown",
   "id": "7d603c31",
   "metadata": {},
   "source": [
    "##### Some holidays have a negative impact on sales. Find out holidays which have higher sales than the mean sales in non-holiday season for all stores together"
   ]
  },
  {
   "cell_type": "code",
   "execution_count": 114,
   "id": "19caf140",
   "metadata": {},
   "outputs": [],
   "source": [
    "Super_Bowl = ['12-2-2010', '11-2-2011', '10-2-2012']\n",
    "Labour_Day =  ['10-9-2010', '9-9-2011', '7-9-2012']\n",
    "Thanksgiving =  ['26-11-2010', '25-11-2011', '23-11-2012']\n",
    "Christmas = ['31-12-2010', '30-12-2011', '28-12-2012']"
   ]
  },
  {
   "cell_type": "code",
   "execution_count": 132,
   "id": "9f4d074f",
   "metadata": {},
   "outputs": [],
   "source": [
    "super_bowl_sales=round(walmart_dataset.loc[walmart_dataset['Date'].isin(Super_Bowl)]['Weekly_Sales'].mean(),2)"
   ]
  },
  {
   "cell_type": "code",
   "execution_count": 133,
   "id": "2bcabf2e",
   "metadata": {},
   "outputs": [
    {
     "data": {
      "text/plain": [
       "1079127.99"
      ]
     },
     "execution_count": 133,
     "metadata": {},
     "output_type": "execute_result"
    }
   ],
   "source": [
    "super_bowl_sales"
   ]
  },
  {
   "cell_type": "code",
   "execution_count": 134,
   "id": "6a837900",
   "metadata": {},
   "outputs": [],
   "source": [
    "labour_day_sales=round(walmart_dataset.loc[walmart_dataset.Date.isin(Labour_Day)]['Weekly_Sales'].mean(),2)"
   ]
  },
  {
   "cell_type": "code",
   "execution_count": 135,
   "id": "ee727b01",
   "metadata": {},
   "outputs": [
    {
     "data": {
      "text/plain": [
       "1042427.29"
      ]
     },
     "execution_count": 135,
     "metadata": {},
     "output_type": "execute_result"
    }
   ],
   "source": [
    "labour_day_sales"
   ]
  },
  {
   "cell_type": "code",
   "execution_count": 136,
   "id": "baae9251",
   "metadata": {},
   "outputs": [],
   "source": [
    "thanksgiving_sales=round(walmart_dataset.loc[walmart_dataset.Date.isin(Thanksgiving)]['Weekly_Sales'].mean(),2)"
   ]
  },
  {
   "cell_type": "code",
   "execution_count": 138,
   "id": "2dd50464",
   "metadata": {},
   "outputs": [
    {
     "data": {
      "text/plain": [
       "1471273.43"
      ]
     },
     "execution_count": 138,
     "metadata": {},
     "output_type": "execute_result"
    }
   ],
   "source": [
    "thanksgiving_sales"
   ]
  },
  {
   "cell_type": "code",
   "execution_count": 139,
   "id": "a18217c1",
   "metadata": {},
   "outputs": [],
   "source": [
    "christmas_sales=round(walmart_dataset.loc[walmart_dataset.Date.isin(Christmas)]['Weekly_Sales'].mean(),2)"
   ]
  },
  {
   "cell_type": "code",
   "execution_count": 140,
   "id": "3bb051b9",
   "metadata": {},
   "outputs": [
    {
     "data": {
      "text/plain": [
       "960833.11"
      ]
     },
     "execution_count": 140,
     "metadata": {},
     "output_type": "execute_result"
    }
   ],
   "source": [
    "christmas_sales"
   ]
  },
  {
   "cell_type": "code",
   "execution_count": 143,
   "id": "022b03b4",
   "metadata": {},
   "outputs": [],
   "source": [
    "non_holiday_sales=round(walmart_dataset.loc[walmart_dataset['Holiday_Flag'] == 0]['Weekly_Sales'].mean(),2)"
   ]
  },
  {
   "cell_type": "code",
   "execution_count": 144,
   "id": "8fc62983",
   "metadata": {},
   "outputs": [
    {
     "data": {
      "text/plain": [
       "1041256.38"
      ]
     },
     "execution_count": 144,
     "metadata": {},
     "output_type": "execute_result"
    }
   ],
   "source": [
    "non_holiday_sales"
   ]
  },
  {
   "cell_type": "code",
   "execution_count": 187,
   "id": "07476d77",
   "metadata": {},
   "outputs": [
    {
     "data": {
      "text/plain": [
       "<AxesSubplot:label='b0e53d5f-1561-426d-8014-880420cbac78', title={'center':'Holidays Sales VS Normal Sales'}, xlabel='Holidays', ylabel='Sales in Millions'>"
      ]
     },
     "execution_count": 187,
     "metadata": {},
     "output_type": "execute_result"
    },
    {
     "data": {
      "image/png": "[encoded data removed]",
      "text/plain": [
       "<Figure size 1440x504 with 2 Axes>"
      ]
     },
     "metadata": {
      "needs_background": "light"
     },
     "output_type": "display_data"
    }
   ],
   "source": [
    "fig,ax1=plt.subplots(figsize=(20,7))\n",
    "sns.lineplot(data=4*[non_holiday_sales],marker='o',ax=ax1)\n",
    "ax2=ax1.twinx()\n",
    "plt.title('Holidays Sales VS Normal Sales')\n",
    "plt.ylabel('Sales in Millions')\n",
    "plt.xlabel('Holidays')\n",
    "\n",
    "sns.barplot(x=['Super Bowl','Labour Day','Thanksgiving','Christmas'],y=[super_bowl_sales,labour_day_sales,thanksgiving_sales,christmas_sales])\n"
   ]
  },
  {
   "cell_type": "code",
   "execution_count": null,
   "id": "0f93d053",
   "metadata": {},
   "outputs": [],
   "source": []
  },
  {
   "cell_type": "markdown",
   "id": "a5e88441",
   "metadata": {},
   "source": [
    "##### Provide a monthly and semester view of sales in units and give insights."
   ]
  },
  {
   "cell_type": "code",
   "execution_count": 188,
   "id": "db087daa",
   "metadata": {},
   "outputs": [],
   "source": [
    "walmart_dataset['Month']=walmart_dataset['Date'].dt.month"
   ]
  },
  {
   "cell_type": "code",
   "execution_count": 189,
   "id": "6170fc09",
   "metadata": {},
   "outputs": [],
   "source": [
    "walmart_dataset['Year']=walmart_dataset['Date'].dt.year"
   ]
  },
  {
   "cell_type": "markdown",
   "id": "d34fae59",
   "metadata": {},
   "source": [
    "##### Year 2010 monthly sales"
   ]
  },
  {
   "cell_type": "code",
   "execution_count": 203,
   "id": "b4c88c87",
   "metadata": {},
   "outputs": [],
   "source": [
    "year_2010=walmart_dataset.loc[walmart_dataset['Year']==2010].groupby(['Month'])['Weekly_Sales'].sum()"
   ]
  },
  {
   "cell_type": "code",
   "execution_count": 208,
   "id": "496e79dc",
   "metadata": {},
   "outputs": [
    {
     "data": {
      "text/plain": [
       "<AxesSubplot:title={'center':'2010 Montly Sales'}, xlabel='Month', ylabel='Sales in Milions'>"
      ]
     },
     "execution_count": 208,
     "metadata": {},
     "output_type": "execute_result"
    },
    {
     "data": {
      "image/png": "[encoded data removed]",
      "text/plain": [
       "<Figure size 1440x504 with 1 Axes>"
      ]
     },
     "metadata": {
      "needs_background": "light"
     },
     "output_type": "display_data"
    }
   ],
   "source": [
    "plt.figure(figsize=(20,7))\n",
    "plt.title('2010 Montly Sales')\n",
    "plt.ylabel('Sales in Milions')\n",
    "year_2010.plot(kind='bar')"
   ]
  },
  {
   "cell_type": "code",
   "execution_count": 195,
   "id": "029075bc",
   "metadata": {},
   "outputs": [
    {
     "data": {
      "text/plain": [
       "Store                    int64\n",
       "Date            datetime64[ns]\n",
       "Weekly_Sales           float64\n",
       "Holiday_Flag             int64\n",
       "Temperature            float64\n",
       "Fuel_Price             float64\n",
       "CPI                    float64\n",
       "Unemployment           float64\n",
       "Month                    int64\n",
       "Year                     int64\n",
       "dtype: object"
      ]
     },
     "execution_count": 195,
     "metadata": {},
     "output_type": "execute_result"
    }
   ],
   "source": []
  },
  {
   "cell_type": "code",
   "execution_count": null,
   "id": "a61a962a",
   "metadata": {},
   "outputs": [],
   "source": []
  },
  {
   "cell_type": "code",
   "execution_count": null,
   "id": "0e6e5962",
   "metadata": {},
   "outputs": [],
   "source": []
  },
  {
   "cell_type": "markdown",
   "id": "28c870ad",
   "metadata": {},
   "source": [
    "##### Year 2011 monthly sales"
   ]
  },
  {
   "cell_type": "code",
   "execution_count": 209,
   "id": "1b295ab3",
   "metadata": {},
   "outputs": [],
   "source": [
    "year_2011=walmart_dataset.loc[walmart_dataset['Year']==2011].groupby(['Month'])['Weekly_Sales'].sum()"
   ]
  },
  {
   "cell_type": "code",
   "execution_count": 210,
   "id": "728fd823",
   "metadata": {},
   "outputs": [
    {
     "data": {
      "text/plain": [
       "<AxesSubplot:title={'center':'2011 Montly Sales'}, xlabel='Month', ylabel='Sales in Milions'>"
      ]
     },
     "execution_count": 210,
     "metadata": {},
     "output_type": "execute_result"
    },
    {
     "data": {
      "image/png": "[encoded data removed]",
      "text/plain": [
       "<Figure size 1440x504 with 1 Axes>"
      ]
     },
     "metadata": {
      "needs_background": "light"
     },
     "output_type": "display_data"
    }
   ],
   "source": [
    "plt.figure(figsize=(20,7))\n",
    "plt.title('2011 Montly Sales')\n",
    "plt.ylabel('Sales in Milions')\n",
    "year_2011.plot(kind='bar')"
   ]
  },
  {
   "cell_type": "code",
   "execution_count": null,
   "id": "d3212617",
   "metadata": {},
   "outputs": [],
   "source": []
  },
  {
   "cell_type": "markdown",
   "id": "6319c02d",
   "metadata": {},
   "source": [
    "##### Year 2012 monthly sales"
   ]
  },
  {
   "cell_type": "code",
   "execution_count": 212,
   "id": "de35dfdf",
   "metadata": {},
   "outputs": [],
   "source": [
    "year_2012=walmart_dataset.loc[walmart_dataset['Year']==2012].groupby(['Month'])['Weekly_Sales'].sum()"
   ]
  },
  {
   "cell_type": "code",
   "execution_count": 213,
   "id": "3098d35d",
   "metadata": {},
   "outputs": [
    {
     "data": {
      "text/plain": [
       "<AxesSubplot:title={'center':'2012 Montly Sales'}, xlabel='Month', ylabel='Sales in Milions'>"
      ]
     },
     "execution_count": 213,
     "metadata": {},
     "output_type": "execute_result"
    },
    {
     "data": {
      "image/png": "[encoded data removed]",
      "text/plain": [
       "<Figure size 1440x504 with 1 Axes>"
      ]
     },
     "metadata": {
      "needs_background": "light"
     },
     "output_type": "display_data"
    }
   ],
   "source": [
    "plt.figure(figsize=(20,7))\n",
    "plt.title('2012 Montly Sales')\n",
    "plt.ylabel('Sales in Milions')\n",
    "year_2012.plot(kind='bar')"
   ]
  },
  {
   "cell_type": "code",
   "execution_count": null,
   "id": "acdcbef7",
   "metadata": {},
   "outputs": [],
   "source": []
  },
  {
   "cell_type": "markdown",
   "id": "c63e9525",
   "metadata": {},
   "source": [
    "##### Yearly Sales"
   ]
  },
  {
   "cell_type": "code",
   "execution_count": 214,
   "id": "9146b582",
   "metadata": {},
   "outputs": [],
   "source": [
    "yearly_sales=walmart_dataset.groupby(['Year'])['Weekly_Sales'].sum()"
   ]
  },
  {
   "cell_type": "code",
   "execution_count": 215,
   "id": "52c38a44",
   "metadata": {},
   "outputs": [
    {
     "data": {
      "text/plain": [
       "Year\n",
       "2010    2.288886e+09\n",
       "2011    2.448200e+09\n",
       "2012    2.000133e+09\n",
       "Name: Weekly_Sales, dtype: float64"
      ]
     },
     "execution_count": 215,
     "metadata": {},
     "output_type": "execute_result"
    }
   ],
   "source": [
    "yearly_sales"
   ]
  },
  {
   "cell_type": "code",
   "execution_count": 217,
   "id": "4323d718",
   "metadata": {},
   "outputs": [
    {
     "data": {
      "text/plain": [
       "<AxesSubplot:title={'center':'Sales by Year'}, xlabel='Year', ylabel='Sales in Milions'>"
      ]
     },
     "execution_count": 217,
     "metadata": {},
     "output_type": "execute_result"
    },
    {
     "data": {
      "image/png": "[encoded data removed]",
      "text/plain": [
       "<Figure size 1440x504 with 1 Axes>"
      ]
     },
     "metadata": {
      "needs_background": "light"
     },
     "output_type": "display_data"
    }
   ],
   "source": [
    "plt.figure(figsize=(20,7))\n",
    "plt.title('Sales by Year')\n",
    "plt.ylabel('Sales in Milions')\n",
    "plt.xticks(rotation=90)\n",
    "yearly_sales.plot(kind='bar')"
   ]
  },
  {
   "cell_type": "code",
   "execution_count": 221,
   "id": "0e39d721",
   "metadata": {},
   "outputs": [
    {
     "name": "stderr",
     "output_type": "stream",
     "text": [
      "C:\\ProgramData\\Anaconda3\\lib\\site-packages\\seaborn\\_decorators.py:36: FutureWarning:\n",
      "\n",
      "Pass the following variable as a keyword arg: x. From version 0.12, the only valid positional argument will be `data`, and passing other arguments without an explicit keyword will result in an error or misinterpretation.\n",
      "\n",
      "C:\\ProgramData\\Anaconda3\\lib\\site-packages\\seaborn\\_decorators.py:36: FutureWarning:\n",
      "\n",
      "Pass the following variable as a keyword arg: x. From version 0.12, the only valid positional argument will be `data`, and passing other arguments without an explicit keyword will result in an error or misinterpretation.\n",
      "\n",
      "C:\\ProgramData\\Anaconda3\\lib\\site-packages\\seaborn\\_decorators.py:36: FutureWarning:\n",
      "\n",
      "Pass the following variable as a keyword arg: x. From version 0.12, the only valid positional argument will be `data`, and passing other arguments without an explicit keyword will result in an error or misinterpretation.\n",
      "\n",
      "C:\\ProgramData\\Anaconda3\\lib\\site-packages\\seaborn\\_decorators.py:36: FutureWarning:\n",
      "\n",
      "Pass the following variable as a keyword arg: x. From version 0.12, the only valid positional argument will be `data`, and passing other arguments without an explicit keyword will result in an error or misinterpretation.\n",
      "\n"
     ]
    },
    {
     "data": {
      "image/png": "[encoded data removed]",
      "text/plain": [
       "<Figure size 960x1280 with 4 Axes>"
      ]
     },
     "metadata": {
      "needs_background": "light"
     },
     "output_type": "display_data"
    }
   ],
   "source": [
    "fig,axis=plt.subplots(4,figsize=(12,16),dpi=80)\n",
    "x=walmart_dataset[['Temperature','Fuel_Price','CPI','Unemployment']]\n",
    "for i,column in enumerate(x):\n",
    "    sns.boxplot(walmart_dataset[column],ax=axis[i])"
   ]
  },
  {
   "cell_type": "code",
   "execution_count": 222,
   "id": "05b4cc08",
   "metadata": {},
   "outputs": [
    {
     "data": {
      "text/plain": [
       "Store           0\n",
       "Date            0\n",
       "Weekly_Sales    0\n",
       "Holiday_Flag    0\n",
       "Temperature     0\n",
       "Fuel_Price      0\n",
       "CPI             0\n",
       "Unemployment    0\n",
       "Month           0\n",
       "Year            0\n",
       "dtype: int64"
      ]
     },
     "execution_count": 222,
     "metadata": {},
     "output_type": "execute_result"
    }
   ],
   "source": [
    "walmart_dataset.isnull().sum()"
   ]
  },
  {
   "cell_type": "code",
   "execution_count": null,
   "id": "e01528d5",
   "metadata": {},
   "outputs": [],
   "source": []
  },
  {
   "cell_type": "code",
   "execution_count": null,
   "id": "d32875a1",
   "metadata": {},
   "outputs": [],
   "source": []
  },
  {
   "cell_type": "markdown",
   "id": "8ddedae5",
   "metadata": {},
   "source": [
    "### 3.Building the Model"
   ]
  },
  {
   "cell_type": "markdown",
   "id": "42693465",
   "metadata": {},
   "source": [
    "##### Define Independent and Dependent Variables"
   ]
  },
  {
   "cell_type": "code",
   "execution_count": 224,
   "id": "57e241fc",
   "metadata": {},
   "outputs": [],
   "source": [
    "x=walmart_dataset[['Store','Fuel_Price','CPI','Unemployment','Month','Year']]\n",
    "y=walmart_dataset['Weekly_Sales']"
   ]
  },
  {
   "cell_type": "code",
   "execution_count": null,
   "id": "326cb3ad",
   "metadata": {},
   "outputs": [],
   "source": []
  },
  {
   "cell_type": "markdown",
   "id": "fa37dcad",
   "metadata": {},
   "source": [
    "##### Import Libraries"
   ]
  },
  {
   "cell_type": "code",
   "execution_count": 225,
   "id": "1c1bfef2",
   "metadata": {},
   "outputs": [],
   "source": [
    "from sklearn.model_selection import train_test_split"
   ]
  },
  {
   "cell_type": "code",
   "execution_count": 226,
   "id": "765d8ce3",
   "metadata": {},
   "outputs": [],
   "source": [
    "from sklearn.preprocessing import StandardScaler"
   ]
  },
  {
   "cell_type": "code",
   "execution_count": 227,
   "id": "c516785d",
   "metadata": {},
   "outputs": [],
   "source": [
    "X_train,X_test,y_train,y_test=train_test_split(x,y,test_size=0.2,random_state=52)"
   ]
  },
  {
   "cell_type": "code",
   "execution_count": 229,
   "id": "fa44d380",
   "metadata": {},
   "outputs": [],
   "source": [
    "sc=StandardScaler()"
   ]
  },
  {
   "cell_type": "code",
   "execution_count": 230,
   "id": "724c35a5",
   "metadata": {},
   "outputs": [],
   "source": [
    "X_train=sc.fit_transform(X_train)"
   ]
  },
  {
   "cell_type": "code",
   "execution_count": 231,
   "id": "915e0e46",
   "metadata": {},
   "outputs": [],
   "source": [
    "X_test=sc.fit_transform(X_test)"
   ]
  },
  {
   "cell_type": "code",
   "execution_count": null,
   "id": "447229c9",
   "metadata": {},
   "outputs": [],
   "source": []
  },
  {
   "cell_type": "markdown",
   "id": "d54ab261",
   "metadata": {},
   "source": [
    "##### Liniar Regression"
   ]
  },
  {
   "cell_type": "code",
   "execution_count": 234,
   "id": "38dcdb07",
   "metadata": {},
   "outputs": [],
   "source": [
    "from sklearn.linear_model import LinearRegression\n",
    "from sklearn import metrics\n",
    "from sklearn.metrics import r2_score"
   ]
  },
  {
   "cell_type": "code",
   "execution_count": 235,
   "id": "939ecbc5",
   "metadata": {},
   "outputs": [],
   "source": [
    "lr=LinearRegression()"
   ]
  },
  {
   "cell_type": "code",
   "execution_count": 236,
   "id": "7681a8fd",
   "metadata": {},
   "outputs": [
    {
     "data": {
      "text/plain": [
       "LinearRegression()"
      ]
     },
     "execution_count": 236,
     "metadata": {},
     "output_type": "execute_result"
    }
   ],
   "source": [
    "lr.fit(X_train,y_train)"
   ]
  },
  {
   "cell_type": "code",
   "execution_count": 237,
   "id": "3062315b",
   "metadata": {},
   "outputs": [],
   "source": [
    "lr_predictions=lr.predict(X_test)"
   ]
  },
  {
   "cell_type": "code",
   "execution_count": 238,
   "id": "bd6c9843",
   "metadata": {},
   "outputs": [
    {
     "data": {
      "text/plain": [
       "14.525193410777671"
      ]
     },
     "execution_count": 238,
     "metadata": {},
     "output_type": "execute_result"
    }
   ],
   "source": [
    "lr.score(X_train,y_train)*100"
   ]
  },
  {
   "cell_type": "code",
   "execution_count": 239,
   "id": "c8bebbcd",
   "metadata": {},
   "outputs": [
    {
     "data": {
      "text/plain": [
       "14.232110110900997"
      ]
     },
     "execution_count": 239,
     "metadata": {},
     "output_type": "execute_result"
    }
   ],
   "source": [
    "r2_score(y_test,lr_predictions)*100"
   ]
  },
  {
   "cell_type": "code",
   "execution_count": 240,
   "id": "40f9d647",
   "metadata": {},
   "outputs": [
    {
     "data": {
      "text/plain": [
       "435069.9733782287"
      ]
     },
     "execution_count": 240,
     "metadata": {},
     "output_type": "execute_result"
    }
   ],
   "source": [
    "metrics.mean_absolute_error(y_test,lr_predictions)"
   ]
  },
  {
   "cell_type": "code",
   "execution_count": 241,
   "id": "ada486c0",
   "metadata": {},
   "outputs": [
    {
     "data": {
      "text/plain": [
       "282139252657.852"
      ]
     },
     "execution_count": 241,
     "metadata": {},
     "output_type": "execute_result"
    }
   ],
   "source": [
    "metrics.mean_squared_error(y_test,lr_predictions)"
   ]
  },
  {
   "cell_type": "code",
   "execution_count": 243,
   "id": "6310f49c",
   "metadata": {},
   "outputs": [
    {
     "data": {
      "text/plain": [
       "531167.8196745845"
      ]
     },
     "execution_count": 243,
     "metadata": {},
     "output_type": "execute_result"
    }
   ],
   "source": [
    "np.sqrt(metrics.mean_squared_error(y_test,lr_predictions))"
   ]
  },
  {
   "cell_type": "code",
   "execution_count": 244,
   "id": "d95f32ef",
   "metadata": {},
   "outputs": [
    {
     "name": "stderr",
     "output_type": "stream",
     "text": [
      "C:\\ProgramData\\Anaconda3\\lib\\site-packages\\seaborn\\_decorators.py:36: FutureWarning:\n",
      "\n",
      "Pass the following variables as keyword args: x, y. From version 0.12, the only valid positional argument will be `data`, and passing other arguments without an explicit keyword will result in an error or misinterpretation.\n",
      "\n"
     ]
    },
    {
     "data": {
      "text/plain": [
       "<AxesSubplot:xlabel='Weekly_Sales'>"
      ]
     },
     "execution_count": 244,
     "metadata": {},
     "output_type": "execute_result"
    },
    {
     "data": {
      "image/png": "[encoded data removed]",
      "text/plain": [
       "<Figure size 1440x504 with 1 Axes>"
      ]
     },
     "metadata": {
      "needs_background": "light"
     },
     "output_type": "display_data"
    }
   ],
   "source": [
    "plt.figure(figsize=(20,7))\n",
    "sns.regplot(y_test,lr_predictions)"
   ]
  },
  {
   "cell_type": "code",
   "execution_count": null,
   "id": "c59ddece",
   "metadata": {},
   "outputs": [],
   "source": []
  },
  {
   "cell_type": "code",
   "execution_count": null,
   "id": "fd183608",
   "metadata": {},
   "outputs": [],
   "source": []
  },
  {
   "cell_type": "markdown",
   "id": "574fb7ff",
   "metadata": {},
   "source": [
    "##### Random Forest"
   ]
  },
  {
   "cell_type": "code",
   "execution_count": 245,
   "id": "cf7e99fa",
   "metadata": {},
   "outputs": [],
   "source": [
    "from sklearn.ensemble import RandomForestRegressor"
   ]
  },
  {
   "cell_type": "code",
   "execution_count": 246,
   "id": "8dec79ac",
   "metadata": {},
   "outputs": [],
   "source": [
    "rfr=RandomForestRegressor()"
   ]
  },
  {
   "cell_type": "code",
   "execution_count": 247,
   "id": "be254027",
   "metadata": {},
   "outputs": [
    {
     "data": {
      "text/plain": [
       "RandomForestRegressor()"
      ]
     },
     "execution_count": 247,
     "metadata": {},
     "output_type": "execute_result"
    }
   ],
   "source": [
    "rfr.fit(X_train,y_train)"
   ]
  },
  {
   "cell_type": "code",
   "execution_count": 248,
   "id": "3bc15252",
   "metadata": {},
   "outputs": [],
   "source": [
    "rfr_predict=rfr.predict(X_test)"
   ]
  },
  {
   "cell_type": "code",
   "execution_count": 249,
   "id": "29dc76a0",
   "metadata": {},
   "outputs": [],
   "source": [
    "r2_rfr=r2_score(y_test,rfr_predict)*100"
   ]
  },
  {
   "cell_type": "code",
   "execution_count": 250,
   "id": "945adfca",
   "metadata": {},
   "outputs": [
    {
     "data": {
      "text/plain": [
       "91.51072313622853"
      ]
     },
     "execution_count": 250,
     "metadata": {},
     "output_type": "execute_result"
    }
   ],
   "source": [
    "r2_rfr"
   ]
  },
  {
   "cell_type": "code",
   "execution_count": 251,
   "id": "ed297e5a",
   "metadata": {},
   "outputs": [],
   "source": [
    "mae=metrics.mean_absolute_error(y_test,rfr_predict)"
   ]
  },
  {
   "cell_type": "code",
   "execution_count": 252,
   "id": "5f919d0c",
   "metadata": {},
   "outputs": [],
   "source": [
    "mse=metrics.mean_squared_error(y_test,rfr_predict)"
   ]
  },
  {
   "cell_type": "code",
   "execution_count": 257,
   "id": "edbb557f",
   "metadata": {},
   "outputs": [],
   "source": [
    "rmse=np.sqrt(mse)"
   ]
  },
  {
   "cell_type": "code",
   "execution_count": 258,
   "id": "0e21190c",
   "metadata": {},
   "outputs": [
    {
     "data": {
      "text/plain": [
       "88276.41224428905"
      ]
     },
     "execution_count": 258,
     "metadata": {},
     "output_type": "execute_result"
    }
   ],
   "source": [
    "mae"
   ]
  },
  {
   "cell_type": "code",
   "execution_count": 259,
   "id": "ed0d293b",
   "metadata": {},
   "outputs": [
    {
     "data": {
      "text/plain": [
       "27926048233.75159"
      ]
     },
     "execution_count": 259,
     "metadata": {},
     "output_type": "execute_result"
    }
   ],
   "source": [
    "mse"
   ]
  },
  {
   "cell_type": "code",
   "execution_count": 260,
   "id": "03d2821d",
   "metadata": {},
   "outputs": [
    {
     "data": {
      "text/plain": [
       "167110.88604202776"
      ]
     },
     "execution_count": 260,
     "metadata": {},
     "output_type": "execute_result"
    }
   ],
   "source": [
    "rmse"
   ]
  },
  {
   "cell_type": "code",
   "execution_count": 261,
   "id": "30b504e9",
   "metadata": {},
   "outputs": [
    {
     "name": "stderr",
     "output_type": "stream",
     "text": [
      "C:\\ProgramData\\Anaconda3\\lib\\site-packages\\seaborn\\_decorators.py:36: FutureWarning:\n",
      "\n",
      "Pass the following variables as keyword args: x, y. From version 0.12, the only valid positional argument will be `data`, and passing other arguments without an explicit keyword will result in an error or misinterpretation.\n",
      "\n"
     ]
    },
    {
     "data": {
      "text/plain": [
       "<AxesSubplot:xlabel='Weekly_Sales'>"
      ]
     },
     "execution_count": 261,
     "metadata": {},
     "output_type": "execute_result"
    },
    {
     "data": {
      "image/png": "[encoded data removed]",
      "text/plain": [
       "<Figure size 1440x504 with 1 Axes>"
      ]
     },
     "metadata": {
      "needs_background": "light"
     },
     "output_type": "display_data"
    }
   ],
   "source": [
    "plt.figure(figsize=(20,7))\n",
    "sns.regplot(y_test,rfr_predict)"
   ]
  },
  {
   "cell_type": "code",
   "execution_count": null,
   "id": "b19b68d6",
   "metadata": {},
   "outputs": [],
   "source": []
  },
  {
   "cell_type": "code",
   "execution_count": null,
   "id": "275c6aa0",
   "metadata": {},
   "outputs": [],
   "source": []
  },
  {
   "cell_type": "markdown",
   "id": "144f613a",
   "metadata": {},
   "source": [
    "##### Decision Tree Regressor"
   ]
  },
  {
   "cell_type": "code",
   "execution_count": 263,
   "id": "d6dd01d6",
   "metadata": {},
   "outputs": [],
   "source": [
    "from sklearn.tree import DecisionTreeRegressor"
   ]
  },
  {
   "cell_type": "code",
   "execution_count": 264,
   "id": "29f317da",
   "metadata": {},
   "outputs": [],
   "source": [
    "dtr=DecisionTreeRegressor()"
   ]
  },
  {
   "cell_type": "code",
   "execution_count": 265,
   "id": "8d4f5567",
   "metadata": {},
   "outputs": [
    {
     "data": {
      "text/plain": [
       "DecisionTreeRegressor()"
      ]
     },
     "execution_count": 265,
     "metadata": {},
     "output_type": "execute_result"
    }
   ],
   "source": [
    "dtr.fit(X_train,y_train)"
   ]
  },
  {
   "cell_type": "code",
   "execution_count": 266,
   "id": "e65508e1",
   "metadata": {},
   "outputs": [],
   "source": [
    "dtr_predict=dtr.predict(X_test)"
   ]
  },
  {
   "cell_type": "code",
   "execution_count": 267,
   "id": "bc5b6d96",
   "metadata": {},
   "outputs": [],
   "source": [
    "r2_dtr=r2_score(y_test,dtr_predict)*100"
   ]
  },
  {
   "cell_type": "code",
   "execution_count": 268,
   "id": "ae37b585",
   "metadata": {},
   "outputs": [
    {
     "data": {
      "text/plain": [
       "86.59237862627833"
      ]
     },
     "execution_count": 268,
     "metadata": {},
     "output_type": "execute_result"
    }
   ],
   "source": [
    "r2_dtr"
   ]
  },
  {
   "cell_type": "code",
   "execution_count": 269,
   "id": "d4be1f50",
   "metadata": {},
   "outputs": [
    {
     "data": {
      "text/plain": [
       "109764.20783993785"
      ]
     },
     "execution_count": 269,
     "metadata": {},
     "output_type": "execute_result"
    }
   ],
   "source": [
    "metrics.mean_absolute_error(y_test,dtr_predict)"
   ]
  },
  {
   "cell_type": "code",
   "execution_count": 270,
   "id": "126aad4c",
   "metadata": {},
   "outputs": [
    {
     "data": {
      "text/plain": [
       "44105273887.379"
      ]
     },
     "execution_count": 270,
     "metadata": {},
     "output_type": "execute_result"
    }
   ],
   "source": [
    "metrics.mean_squared_error(y_test,dtr_predict)"
   ]
  },
  {
   "cell_type": "code",
   "execution_count": 271,
   "id": "b9978f1c",
   "metadata": {},
   "outputs": [
    {
     "data": {
      "text/plain": [
       "210012.55649931743"
      ]
     },
     "execution_count": 271,
     "metadata": {},
     "output_type": "execute_result"
    }
   ],
   "source": [
    "np.sqrt(metrics.mean_squared_error(y_test,dtr_predict))"
   ]
  },
  {
   "cell_type": "code",
   "execution_count": 273,
   "id": "5e49004c",
   "metadata": {},
   "outputs": [
    {
     "name": "stderr",
     "output_type": "stream",
     "text": [
      "C:\\ProgramData\\Anaconda3\\lib\\site-packages\\seaborn\\_decorators.py:36: FutureWarning:\n",
      "\n",
      "Pass the following variables as keyword args: x, y. From version 0.12, the only valid positional argument will be `data`, and passing other arguments without an explicit keyword will result in an error or misinterpretation.\n",
      "\n"
     ]
    },
    {
     "data": {
      "text/plain": [
       "<AxesSubplot:xlabel='Weekly_Sales'>"
      ]
     },
     "execution_count": 273,
     "metadata": {},
     "output_type": "execute_result"
    },
    {
     "data": {
      "image/png": "[encoded data removed]",
      "text/plain": [
       "<Figure size 1440x504 with 1 Axes>"
      ]
     },
     "metadata": {
      "needs_background": "light"
     },
     "output_type": "display_data"
    }
   ],
   "source": [
    "plt.figure(figsize=(20,7))\n",
    "sns.regplot(y_test,dtr_predict)"
   ]
  },
  {
   "cell_type": "code",
   "execution_count": null,
   "id": "2b4632df",
   "metadata": {},
   "outputs": [],
   "source": []
  },
  {
   "cell_type": "markdown",
   "id": "61181ac8",
   "metadata": {},
   "source": [
    "##### K Nearest Neighbors"
   ]
  },
  {
   "cell_type": "code",
   "execution_count": 275,
   "id": "f1a962dd",
   "metadata": {},
   "outputs": [],
   "source": [
    "from sklearn.neighbors import KNeighborsRegressor"
   ]
  },
  {
   "cell_type": "code",
   "execution_count": 276,
   "id": "eeb3905d",
   "metadata": {},
   "outputs": [],
   "source": [
    "kn=KNeighborsRegressor()"
   ]
  },
  {
   "cell_type": "code",
   "execution_count": 277,
   "id": "f44c13f8",
   "metadata": {},
   "outputs": [
    {
     "data": {
      "text/plain": [
       "KNeighborsRegressor()"
      ]
     },
     "execution_count": 277,
     "metadata": {},
     "output_type": "execute_result"
    }
   ],
   "source": [
    "kn.fit(X_train,y_train)"
   ]
  },
  {
   "cell_type": "code",
   "execution_count": 278,
   "id": "c6be6f5b",
   "metadata": {},
   "outputs": [],
   "source": [
    "kn_predict=kn.predict(X_test)"
   ]
  },
  {
   "cell_type": "code",
   "execution_count": 279,
   "id": "a9859581",
   "metadata": {},
   "outputs": [],
   "source": [
    "r2_kn=r2_score(y_test,kn_predict)*100"
   ]
  },
  {
   "cell_type": "code",
   "execution_count": 280,
   "id": "fc8f3f83",
   "metadata": {},
   "outputs": [
    {
     "data": {
      "text/plain": [
       "61.358547999568344"
      ]
     },
     "execution_count": 280,
     "metadata": {},
     "output_type": "execute_result"
    }
   ],
   "source": [
    "r2_kn"
   ]
  },
  {
   "cell_type": "code",
   "execution_count": 281,
   "id": "4c5bfe8a",
   "metadata": {},
   "outputs": [
    {
     "data": {
      "text/plain": [
       "245004.2247645688"
      ]
     },
     "execution_count": 281,
     "metadata": {},
     "output_type": "execute_result"
    }
   ],
   "source": [
    "metrics.mean_absolute_error(y_test,kn_predict)"
   ]
  },
  {
   "cell_type": "code",
   "execution_count": 282,
   "id": "833b1e4d",
   "metadata": {},
   "outputs": [
    {
     "data": {
      "text/plain": [
       "127113659938.6213"
      ]
     },
     "execution_count": 282,
     "metadata": {},
     "output_type": "execute_result"
    }
   ],
   "source": [
    "metrics.mean_squared_error(y_test,kn_predict)"
   ]
  },
  {
   "cell_type": "code",
   "execution_count": 283,
   "id": "4d011eb5",
   "metadata": {},
   "outputs": [
    {
     "data": {
      "text/plain": [
       "356530.02669988584"
      ]
     },
     "execution_count": 283,
     "metadata": {},
     "output_type": "execute_result"
    }
   ],
   "source": [
    "np.sqrt(metrics.mean_squared_error(y_test,kn_predict))"
   ]
  },
  {
   "cell_type": "code",
   "execution_count": 284,
   "id": "541e030a",
   "metadata": {},
   "outputs": [
    {
     "name": "stderr",
     "output_type": "stream",
     "text": [
      "C:\\ProgramData\\Anaconda3\\lib\\site-packages\\seaborn\\_decorators.py:36: FutureWarning:\n",
      "\n",
      "Pass the following variables as keyword args: x, y. From version 0.12, the only valid positional argument will be `data`, and passing other arguments without an explicit keyword will result in an error or misinterpretation.\n",
      "\n"
     ]
    },
    {
     "data": {
      "text/plain": [
       "<AxesSubplot:xlabel='Weekly_Sales'>"
      ]
     },
     "execution_count": 284,
     "metadata": {},
     "output_type": "execute_result"
    },
    {
     "data": {
      "image/png": "[encoded data removed]",
      "text/plain": [
       "<Figure size 1440x504 with 1 Axes>"
      ]
     },
     "metadata": {
      "needs_background": "light"
     },
     "output_type": "display_data"
    }
   ],
   "source": [
    "plt.figure(figsize=(20,7))\n",
    "sns.regplot(y_test,kn_predict)"
   ]
  },
  {
   "cell_type": "code",
   "execution_count": null,
   "id": "3dbd0e83",
   "metadata": {},
   "outputs": [],
   "source": []
  },
  {
   "cell_type": "code",
   "execution_count": null,
   "id": "bb7ab678",
   "metadata": {},
   "outputs": [],
   "source": []
  },
  {
   "cell_type": "code",
   "execution_count": null,
   "id": "6c21c6b3",
   "metadata": {},
   "outputs": [],
   "source": []
  },
  {
   "cell_type": "code",
   "execution_count": null,
   "id": "8fc68061",
   "metadata": {},
   "outputs": [],
   "source": []
  },
  {
   "cell_type": "markdown",
   "id": "64a206d2",
   "metadata": {},
   "source": [
    "### 4.Cross Validation"
   ]
  },
  {
   "cell_type": "code",
   "execution_count": null,
   "id": "d2f74244",
   "metadata": {},
   "outputs": [],
   "source": [
    "\n"
   ]
  },
  {
   "cell_type": "code",
   "execution_count": 285,
   "id": "a868484e",
   "metadata": {},
   "outputs": [],
   "source": [
    "from sklearn.model_selection import cross_val_score"
   ]
  },
  {
   "cell_type": "code",
   "execution_count": 286,
   "id": "c241fcd5",
   "metadata": {},
   "outputs": [],
   "source": [
    "## Liniar Regression"
   ]
  },
  {
   "cell_type": "code",
   "execution_count": 288,
   "id": "5140f048",
   "metadata": {},
   "outputs": [],
   "source": [
    "lr_scores=cross_val_score(lr,X_train,y_train,cv=10,scoring='r2')"
   ]
  },
  {
   "cell_type": "raw",
   "id": "bdc02f9a",
   "metadata": {},
   "source": []
  },
  {
   "cell_type": "code",
   "execution_count": 289,
   "id": "51345076",
   "metadata": {},
   "outputs": [
    {
     "data": {
      "text/plain": [
       "array([0.14580654, 0.15218607, 0.17368259, 0.17551455, 0.13210603,\n",
       "       0.12401738, 0.14980497, 0.12734445, 0.10225242, 0.11560056])"
      ]
     },
     "execution_count": 289,
     "metadata": {},
     "output_type": "execute_result"
    }
   ],
   "source": [
    "lr_scores"
   ]
  },
  {
   "cell_type": "code",
   "execution_count": 304,
   "id": "35712969",
   "metadata": {},
   "outputs": [
    {
     "data": {
      "text/plain": [
       "13.98"
      ]
     },
     "execution_count": 304,
     "metadata": {},
     "output_type": "execute_result"
    }
   ],
   "source": [
    "round(lr_scores.mean()*100,2)"
   ]
  },
  {
   "cell_type": "code",
   "execution_count": null,
   "id": "eb224c2f",
   "metadata": {},
   "outputs": [],
   "source": []
  },
  {
   "cell_type": "code",
   "execution_count": 291,
   "id": "05a52803",
   "metadata": {},
   "outputs": [],
   "source": [
    "## Random Forest"
   ]
  },
  {
   "cell_type": "code",
   "execution_count": 292,
   "id": "522e4e3f",
   "metadata": {},
   "outputs": [],
   "source": [
    "rfr_scores=cross_val_score(rfr,X_train,y_train,cv=10,scoring='r2')"
   ]
  },
  {
   "cell_type": "code",
   "execution_count": 293,
   "id": "4131bfc4",
   "metadata": {},
   "outputs": [
    {
     "data": {
      "text/plain": [
       "array([0.93166875, 0.9445432 , 0.93273456, 0.93268954, 0.93195523,\n",
       "       0.90036612, 0.93336774, 0.93948662, 0.90044751, 0.93262186])"
      ]
     },
     "execution_count": 293,
     "metadata": {},
     "output_type": "execute_result"
    }
   ],
   "source": [
    "rfr_scores"
   ]
  },
  {
   "cell_type": "code",
   "execution_count": 305,
   "id": "a20687e6",
   "metadata": {},
   "outputs": [
    {
     "data": {
      "text/plain": [
       "92.8"
      ]
     },
     "execution_count": 305,
     "metadata": {},
     "output_type": "execute_result"
    }
   ],
   "source": [
    "round(rfr_scores.mean()*100,2)"
   ]
  },
  {
   "cell_type": "code",
   "execution_count": null,
   "id": "dcb2b1fb",
   "metadata": {},
   "outputs": [],
   "source": []
  },
  {
   "cell_type": "code",
   "execution_count": 295,
   "id": "87c3b37f",
   "metadata": {},
   "outputs": [],
   "source": [
    "## Decision Tree Regressor"
   ]
  },
  {
   "cell_type": "code",
   "execution_count": 296,
   "id": "78644a42",
   "metadata": {},
   "outputs": [],
   "source": [
    "dtr_scores=cross_val_score(dtr,X_train,y_train,cv=10,scoring='r2')"
   ]
  },
  {
   "cell_type": "code",
   "execution_count": 297,
   "id": "31f05712",
   "metadata": {},
   "outputs": [
    {
     "data": {
      "text/plain": [
       "array([0.90279973, 0.91736708, 0.89603414, 0.88643357, 0.89425557,\n",
       "       0.85561227, 0.904055  , 0.9049468 , 0.86190047, 0.90279589])"
      ]
     },
     "execution_count": 297,
     "metadata": {},
     "output_type": "execute_result"
    }
   ],
   "source": [
    "dtr_scores"
   ]
  },
  {
   "cell_type": "code",
   "execution_count": 306,
   "id": "fa01e89e",
   "metadata": {},
   "outputs": [
    {
     "data": {
      "text/plain": [
       "89.26"
      ]
     },
     "execution_count": 306,
     "metadata": {},
     "output_type": "execute_result"
    }
   ],
   "source": [
    "round(dtr_scores.mean()*100,2)"
   ]
  },
  {
   "cell_type": "code",
   "execution_count": null,
   "id": "4d0b3725",
   "metadata": {},
   "outputs": [],
   "source": []
  },
  {
   "cell_type": "code",
   "execution_count": null,
   "id": "b3660d77",
   "metadata": {},
   "outputs": [],
   "source": []
  },
  {
   "cell_type": "code",
   "execution_count": 299,
   "id": "eb2a2bdd",
   "metadata": {},
   "outputs": [],
   "source": [
    "## K Nearest Neighbors"
   ]
  },
  {
   "cell_type": "code",
   "execution_count": 300,
   "id": "c4b749b6",
   "metadata": {},
   "outputs": [],
   "source": [
    "kn_scores=cross_val_score(kn,X_train,y_train,cv=10,scoring='r2')"
   ]
  },
  {
   "cell_type": "code",
   "execution_count": 301,
   "id": "cb8abd96",
   "metadata": {},
   "outputs": [
    {
     "data": {
      "text/plain": [
       "array([0.55457873, 0.58961197, 0.6237888 , 0.57184799, 0.54196983,\n",
       "       0.5820651 , 0.61699658, 0.55491817, 0.54337236, 0.59796103])"
      ]
     },
     "execution_count": 301,
     "metadata": {},
     "output_type": "execute_result"
    }
   ],
   "source": [
    "kn_scores"
   ]
  },
  {
   "cell_type": "code",
   "execution_count": 307,
   "id": "fce23150",
   "metadata": {},
   "outputs": [
    {
     "data": {
      "text/plain": [
       "57.77"
      ]
     },
     "execution_count": 307,
     "metadata": {},
     "output_type": "execute_result"
    }
   ],
   "source": [
    "round(kn_scores.mean()*100,2)"
   ]
  },
  {
   "cell_type": "code",
   "execution_count": 308,
   "id": "da3a2ee3",
   "metadata": {},
   "outputs": [
    {
     "data": {
      "text/plain": [
       "<AxesSubplot:title={'center':'Model Analysis'}, xlabel='Model', ylabel='Accuracy'>"
      ]
     },
     "execution_count": 308,
     "metadata": {},
     "output_type": "execute_result"
    },
    {
     "data": {
      "image/png": "[encoded data removed]",
      "text/plain": [
       "<Figure size 1440x504 with 1 Axes>"
      ]
     },
     "metadata": {
      "needs_background": "light"
     },
     "output_type": "display_data"
    }
   ],
   "source": [
    "plt.figure(figsize=(20,7))\n",
    "plt.title('Model Analysis')\n",
    "plt.xlabel('Model')\n",
    "plt.ylabel('Accuracy')\n",
    "sns.barplot(x=['Liniar Regression','Random Forest Regressor','Decision Tree Regressor','KNearestNeighbors'],y=[round(lr_scores.mean()*100,2),round(rfr_scores.mean()*100,2),round(dtr_scores.mean()*100,2),round(kn_scores.mean()*100,2)])"
   ]
  },
  {
   "cell_type": "code",
   "execution_count": null,
   "id": "fc4346b1",
   "metadata": {},
   "outputs": [],
   "source": []
  }
 ],
 "metadata": {
  "kernelspec": {
   "display_name": "Python 3",
   "language": "python",
   "name": "python3"
  },
  "language_info": {
   "codemirror_mode": {
    "name": "ipython",
    "version": 3
   },
   "file_extension": ".py",
   "mimetype": "text/x-python",
   "name": "python",
   "nbconvert_exporter": "python",
   "pygments_lexer": "ipython3",
   "version": "3.8.8"
  }
 },
 "nbformat": 4,
 "nbformat_minor": 5
}
